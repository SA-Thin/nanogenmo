{
 "cells": [
  {
   "cell_type": "code",
   "execution_count": 1,
   "metadata": {},
   "outputs": [
    {
     "name": "stdout",
     "output_type": "stream",
     "text": [
      "60218\n"
     ]
    }
   ],
   "source": [
    "import random as r\n",
    "import markovify as m\n",
    "\n",
    "novella = ''\n",
    "\n",
    "with open(\"1984-mix.txt\") as f:\n",
    "    text = f.read()\n",
    "    \n",
    "text_model = m.Text(text)\n",
    "\n",
    "for i in range(3600):\n",
    "    novella += str(text_model.make_sentence())\n",
    "    rng = r.randint(0,100)\n",
    "    if (rng < 6):\n",
    "        novella += \"\\n\\n\"\n",
    "    \n",
    "    with open(\"finalnov.txt\", 'w') as b:\n",
    "        b.write(novella)  \n",
    "        \n",
    "\n",
    "print(len(novella.split(\" \")))"
   ]
  },
  {
   "cell_type": "code",
   "execution_count": null,
   "metadata": {},
   "outputs": [],
   "source": []
  }
 ],
 "metadata": {
  "kernelspec": {
   "display_name": "Python 3",
   "language": "python",
   "name": "python3"
  },
  "language_info": {
   "codemirror_mode": {
    "name": "ipython",
    "version": 3
   },
   "file_extension": ".py",
   "mimetype": "text/x-python",
   "name": "python",
   "nbconvert_exporter": "python",
   "pygments_lexer": "ipython3",
   "version": "3.6.5"
  }
 },
 "nbformat": 4,
 "nbformat_minor": 2
}
